{
  "nbformat": 4,
  "nbformat_minor": 0,
  "metadata": {
    "colab": {
      "provenance": [],
      "authorship_tag": "ABX9TyPoG1dyUQbC+ORIUeN16s9u",
      "include_colab_link": true
    },
    "kernelspec": {
      "name": "python3",
      "display_name": "Python 3"
    },
    "language_info": {
      "name": "python"
    }
  },
  "cells": [
    {
      "cell_type": "markdown",
      "metadata": {
        "id": "view-in-github",
        "colab_type": "text"
      },
      "source": [
        "<a href=\"https://colab.research.google.com/github/Ninjaman89/WorldBuilder/blob/main/InitialPythonNotebook.ipynb\" target=\"_parent\"><img src=\"https://colab.research.google.com/assets/colab-badge.svg\" alt=\"Open In Colab\"/></a>"
      ]
    },
    {
      "cell_type": "code",
      "execution_count": 1,
      "metadata": {
        "colab": {
          "base_uri": "https://localhost:8080/"
        },
        "id": "GO9iIa-m7wHm",
        "outputId": "e0f42851-3b14-4555-dc08-782c6ce2ae52"
      },
      "outputs": [
        {
          "output_type": "stream",
          "name": "stdout",
          "text": [
            "Hello,, World\n"
          ]
        }
      ],
      "source": [
        "print(\"Hello,, World\")"
      ]
    },
    {
      "cell_type": "code",
      "source": [
        "name = \"Alice\"  # Store the name \"Alice\" in a variable called 'name'\n",
        "print(\"Hello, \" + name + \"!\") # Concatenate (join) strings\n",
        "print(f\"Hello, {name}!\") # f-strings (more modern way to format strings)\n",
        "age = 30\n",
        "print(f\"{name} is {age} years old.\")"
      ],
      "metadata": {
        "colab": {
          "base_uri": "https://localhost:8080/"
        },
        "id": "JtRUEZzj8LJq",
        "outputId": "a816ad9e-35ab-41c0-aed0-5f908adfb440"
      },
      "execution_count": 2,
      "outputs": [
        {
          "output_type": "stream",
          "name": "stdout",
          "text": [
            "Hello, Alice!\n",
            "Hello, Alice!\n",
            "Alice is 30 years old.\n"
          ]
        }
      ]
    },
    {
      "cell_type": "code",
      "source": [
        "x = 10\n",
        "y = 5\n",
        "sum = x + y\n",
        "difference = x - y\n",
        "product = x * y\n",
        "quotient = x / y\n",
        "print(f\"Sum: {sum}\")\n",
        "print(f\"Difference: {difference}\")\n",
        "print(f\"Product: {product}\")\n",
        "print(f\"Quotient: {quotient}\")"
      ],
      "metadata": {
        "colab": {
          "base_uri": "https://localhost:8080/"
        },
        "id": "lFg1-o6m8UIE",
        "outputId": "55b33c2b-e985-4634-b459-82b521bf9d4c"
      },
      "execution_count": 3,
      "outputs": [
        {
          "output_type": "stream",
          "name": "stdout",
          "text": [
            "Sum: 15\n",
            "Difference: 5\n",
            "Product: 50\n",
            "Quotient: 2.0\n"
          ]
        }
      ]
    },
    {
      "cell_type": "code",
      "source": [
        "fruits = [\"apple\", \"banana\", \"cherry\"]\n",
        "print(fruits) # Print the whole list\n",
        "print(fruits[0]) # Print the first item (indexing starts at 0)\n",
        "print(fruits[1]) # Print the second item\n",
        "fruits.append(\"orange\") # Add an item to the end of the list\n",
        "print(fruits)"
      ],
      "metadata": {
        "colab": {
          "base_uri": "https://localhost:8080/"
        },
        "id": "YROxJ4Os8uaX",
        "outputId": "ff37e169-769b-40ed-c7f7-0c9683c8e82e"
      },
      "execution_count": 4,
      "outputs": [
        {
          "output_type": "stream",
          "name": "stdout",
          "text": [
            "['apple', 'banana', 'cherry']\n",
            "apple\n",
            "banana\n",
            "['apple', 'banana', 'cherry', 'orange']\n"
          ]
        }
      ]
    }
  ]
}